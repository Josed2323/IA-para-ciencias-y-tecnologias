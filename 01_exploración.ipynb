{
  "nbformat": 4,
  "nbformat_minor": 0,
  "metadata": {
    "colab": {
      "provenance": []
    },
    "kernelspec": {
      "name": "python3",
      "display_name": "Python 3"
    },
    "language_info": {
      "name": "python"
    }
  },
  "cells": [
    {
      "cell_type": "code",
      "execution_count": 3,
      "metadata": {
        "colab": {
          "base_uri": "https://localhost:8080/"
        },
        "id": "ZnBHliOf0pdj",
        "outputId": "c037f598-95e8-473f-b6e8-7a843cdbb0f5"
      },
      "outputs": [
        {
          "output_type": "stream",
          "name": "stdout",
          "text": [
            "       ID  PERIODO         ESTU_PRGM_ACADEMICO ESTU_PRGM_DEPARTAMENTO  \\\n",
            "0  904256    20212                  ENFERMERIA                 BOGOTÁ   \n",
            "1  645256    20212                     DERECHO              ATLANTICO   \n",
            "2  308367    20203       MERCADEO Y PUBLICIDAD                 BOGOTÁ   \n",
            "3  470353    20195  ADMINISTRACION DE EMPRESAS              SANTANDER   \n",
            "4  989032    20212                  PSICOLOGIA              ANTIOQUIA   \n",
            "\n",
            "             ESTU_VALORMATRICULAUNIVERSIDAD ESTU_HORASSEMANATRABAJA  \\\n",
            "0  Entre 5.5 millones y menos de 7 millones       Menos de 10 horas   \n",
            "1  Entre 2.5 millones y menos de 4 millones                       0   \n",
            "2  Entre 2.5 millones y menos de 4 millones         Más de 30 horas   \n",
            "3  Entre 4 millones y menos de 5.5 millones                       0   \n",
            "4  Entre 2.5 millones y menos de 4 millones     Entre 21 y 30 horas   \n",
            "\n",
            "  FAMI_ESTRATOVIVIENDA FAMI_TIENEINTERNET                 FAMI_EDUCACIONPADRE  \\\n",
            "0            Estrato 3                 Si    Técnica o tecnológica incompleta   \n",
            "1            Estrato 3                 No      Técnica o tecnológica completa   \n",
            "2            Estrato 3                 Si  Secundaria (Bachillerato) completa   \n",
            "3            Estrato 4                 Si                             No sabe   \n",
            "4            Estrato 3                 Si                   Primaria completa   \n",
            "\n",
            "                  FAMI_EDUCACIONMADRE ESTU_PAGOMATRICULAPROPIO  \\\n",
            "0                           Postgrado                       No   \n",
            "1    Técnica o tecnológica incompleta                       No   \n",
            "2  Secundaria (Bachillerato) completa                       No   \n",
            "3  Secundaria (Bachillerato) completa                       No   \n",
            "4                   Primaria completa                       No   \n",
            "\n",
            "  RENDIMIENTO_GLOBAL  \n",
            "0         medio-alto  \n",
            "1               bajo  \n",
            "2               bajo  \n",
            "3               alto  \n",
            "4         medio-bajo  \n",
            "             ESTU_VALORMATRICULAUNIVERSIDAD  Cantidad de Alumnos\n",
            "0    Entre 1 millón y menos de 2.5 millones               204048\n",
            "1  Entre 2.5 millones y menos de 4 millones               127430\n",
            "2                          Menos de 500 mil                80263\n",
            "3         Entre 500 mil y menos de 1 millón                78704\n",
            "4  Entre 4 millones y menos de 5.5 millones                69736\n",
            "5                         Más de 7 millones                68014\n",
            "6  Entre 5.5 millones y menos de 7 millones                38490\n",
            "7                         No pagó matrícula                19528\n",
            "                                   ESTU_PRGM_ACADEMICO  Cantidad de Alumnos\n",
            "0                                              DERECHO                53244\n",
            "1                           ADMINISTRACION DE EMPRESAS                51902\n",
            "2                                   CONTADURIA PUBLICA                39664\n",
            "3                                           PSICOLOGIA                31932\n",
            "4                                INGENIERIA INDUSTRIAL                28481\n",
            "..                                                 ...                  ...\n",
            "943                LICENCIATURA EN ESPAÑOL Y FILOLOGÍA                    1\n",
            "944         ADMINISTRACION EN NEGOCIOS INTERNACIONALES                    1\n",
            "945                ADMINISTRACION DE COMERCIO EXTERIOR                    1\n",
            "946  LICENCIATURA EN EDUCACI¿N F¿SICA RECREACI¿N Y ...                    1\n",
            "947              PROFESIONAL EN INVESTIGACIÓN CRIMINAL                    1\n",
            "\n",
            "[948 rows x 2 columns]\n"
          ]
        }
      ],
      "source": [
        "import pandas as pd\n",
        "\n",
        "df = pd.read_csv('train.csv')\n",
        "\n",
        "print(df.head())\n",
        "\n",
        "result = df['ESTU_VALORMATRICULAUNIVERSIDAD'].value_counts().reset_index()\n",
        "result.columns = ['ESTU_VALORMATRICULAUNIVERSIDAD', 'Cantidad de Alumnos']\n",
        "print(result)\n",
        "\n",
        "result2 = df['ESTU_PRGM_ACADEMICO'].value_counts().reset_index()\n",
        "result2.columns = ['ESTU_PRGM_ACADEMICO', 'Cantidad de Alumnos']\n",
        "print(result2)"
      ]
    }
  ]
}